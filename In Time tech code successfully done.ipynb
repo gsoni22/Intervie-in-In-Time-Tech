{
 "cells": [
  {
   "cell_type": "code",
   "execution_count": 47,
   "metadata": {},
   "outputs": [],
   "source": [
    "def series(num,inn,flag,s):\n",
    "    if flag==True:\n",
    "        print(num)\n",
    "        if num >= 0:\n",
    "            series(num-inn,inn,flag,s)\n",
    "        else:\n",
    "            flag=False\n",
    "            series(num+inn,inn,flag,s)\n",
    "    else:\n",
    "        print(num)\n",
    "        if num ==  s:\n",
    "            pass\n",
    "        else:\n",
    "            series(num+inn,inn,flag,s)"
   ]
  },
  {
   "cell_type": "code",
   "execution_count": 49,
   "metadata": {},
   "outputs": [
    {
     "name": "stdout",
     "output_type": "stream",
     "text": [
      "16\n",
      "13\n",
      "10\n",
      "7\n",
      "4\n",
      "1\n",
      "-2\n",
      "1\n",
      "4\n",
      "7\n",
      "10\n",
      "13\n",
      "16\n"
     ]
    }
   ],
   "source": [
    "series(16,3,True,16)"
   ]
  },
  {
   "cell_type": "code",
   "execution_count": null,
   "metadata": {},
   "outputs": [],
   "source": []
  },
  {
   "cell_type": "code",
   "execution_count": null,
   "metadata": {},
   "outputs": [],
   "source": []
  }
 ],
 "metadata": {
  "kernelspec": {
   "display_name": "Python 3",
   "language": "python",
   "name": "python3"
  },
  "language_info": {
   "codemirror_mode": {
    "name": "ipython",
    "version": 3
   },
   "file_extension": ".py",
   "mimetype": "text/x-python",
   "name": "python",
   "nbconvert_exporter": "python",
   "pygments_lexer": "ipython3",
   "version": "3.6.5"
  }
 },
 "nbformat": 4,
 "nbformat_minor": 2
}
